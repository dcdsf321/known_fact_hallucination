{
 "cells": [
  {
   "cell_type": "code",
   "execution_count": 4,
   "metadata": {},
   "outputs": [
    {
     "name": "stderr",
     "output_type": "stream",
     "text": [
      "/root/miniconda3/envs/lens/lib/python3.9/site-packages/tqdm/auto.py:21: TqdmWarning: IProgress not found. Please update jupyter and ipywidgets. See https://ipywidgets.readthedocs.io/en/stable/user_install.html\n",
      "  from .autonotebook import tqdm as notebook_tqdm\n"
     ]
    }
   ],
   "source": [
    "import os\n",
    "import torch\n",
    "from tqdm import tqdm\n",
    "import numpy as np\n",
    "import pickle, json\n",
    "from tuned_lens import TunedLens"
   ]
  },
  {
   "cell_type": "code",
   "execution_count": 2,
   "metadata": {},
   "outputs": [],
   "source": [
    "import sys\n",
    "from plot_utils import *\n",
    "from get_dist import *"
   ]
  },
  {
   "cell_type": "code",
   "execution_count": null,
   "metadata": {},
   "outputs": [],
   "source": [
    "from sklearn import svm\n",
    "from sklearn.model_selection import train_test_split\n",
    "from sklearn.metrics import accuracy_score\n",
    "\n",
    "file_pth = './results/opt-6.7b/tuned_logits/'\n",
    "\n",
    "\n",
    "l_data = []\n",
    "label = []\n",
    "for pkl_pth in os.listdir(file_pth):\n",
    "    if pkl_pth[-4:] == '.pkl':\n",
    "        with open(file_pth+pkl_pth, 'rb') as f:\n",
    "            tuned_ans_list_r, logit_ans_list_r, max_tok_len_r, tuned_ans_list_z, logit_ans_list_z, max_tok_len_z, tuned_ans_list_z_o, logit_ans_list_z_o, max_tok_len_z_o, sample_r, sample_z = pickle.load(f)\n",
    "        for i in range(len(tuned_ans_list_r)):\n",
    "            l_data.append(np.concatenate((tuned_ans_list_r[i][:,-1],logit_ans_list_r[i][:,-1])))\n",
    "            # l_data.append(logit_ans_list_r[i][:,-1])\n",
    "            label.append(1)\n",
    "        for i in range(len(tuned_ans_list_z_o)):\n",
    "            l_data.append(np.concatenate((tuned_ans_list_z_o[i][:,-1],logit_ans_list_z_o[i][:,-1])))\n",
    "            # l_data.append(logit_ans_list_z_o[i][:,-1])\n",
    "            label.append(0)\n",
    "print(len(l_data))\n",
    "X_train, X_test, y_train, y_test = train_test_split(l_data, label, test_size=0.2, random_state=42)\n",
    "\n",
    "clf = svm.SVC(kernel='linear')  \n",
    "\n",
    "clf.fit(X_train, y_train)\n",
    "\n",
    "y_pred = clf.predict(X_test)\n",
    "\n",
    "accuracy = accuracy_score(y_test, y_pred)\n",
    "print(\"accuracy:\", accuracy)"
   ]
  }
 ],
 "metadata": {
  "kernelspec": {
   "display_name": "lens",
   "language": "python",
   "name": "python3"
  },
  "language_info": {
   "codemirror_mode": {
    "name": "ipython",
    "version": 3
   },
   "file_extension": ".py",
   "mimetype": "text/x-python",
   "name": "python",
   "nbconvert_exporter": "python",
   "pygments_lexer": "ipython3",
   "version": "3.9.18"
  }
 },
 "nbformat": 4,
 "nbformat_minor": 2
}
